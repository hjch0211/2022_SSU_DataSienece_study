{
 "cells": [
  {
   "cell_type": "code",
   "execution_count": 1,
   "id": "daac39af",
   "metadata": {},
   "outputs": [
    {
     "name": "stdout",
     "output_type": "stream",
     "text": [
      "Collecting wordcloud\n",
      "  Downloading wordcloud-1.8.1.tar.gz (220 kB)\n",
      "Requirement already satisfied: numpy>=1.6.1 in c:\\users\\user\\anaconda3\\lib\\site-packages (from wordcloud) (1.20.3)\n",
      "Requirement already satisfied: pillow in c:\\users\\user\\anaconda3\\lib\\site-packages (from wordcloud) (8.4.0)\n",
      "Requirement already satisfied: matplotlib in c:\\users\\user\\anaconda3\\lib\\site-packages (from wordcloud) (3.4.3)\n",
      "Requirement already satisfied: cycler>=0.10 in c:\\users\\user\\anaconda3\\lib\\site-packages (from matplotlib->wordcloud) (0.10.0)\n",
      "Requirement already satisfied: kiwisolver>=1.0.1 in c:\\users\\user\\anaconda3\\lib\\site-packages (from matplotlib->wordcloud) (1.3.1)\n",
      "Requirement already satisfied: pyparsing>=2.2.1 in c:\\users\\user\\anaconda3\\lib\\site-packages (from matplotlib->wordcloud) (3.0.4)\n",
      "Requirement already satisfied: python-dateutil>=2.7 in c:\\users\\user\\anaconda3\\lib\\site-packages (from matplotlib->wordcloud) (2.8.2)\n",
      "Requirement already satisfied: six in c:\\users\\user\\anaconda3\\lib\\site-packages (from cycler>=0.10->matplotlib->wordcloud) (1.16.0)\n",
      "Building wheels for collected packages: wordcloud\n",
      "  Building wheel for wordcloud (setup.py): started\n",
      "  Building wheel for wordcloud (setup.py): finished with status 'done'\n",
      "  Created wheel for wordcloud: filename=wordcloud-1.8.1-cp39-cp39-win_amd64.whl size=161114 sha256=e3b70ac4df77710887a2478041706b4f389c18975080c435eb32d24727f4e5b5\n",
      "  Stored in directory: c:\\users\\user\\appdata\\local\\pip\\cache\\wheels\\f9\\7a\\dd\\06ef8b5dfe5483f6204133c08eeb16c287cc2c05e290ae2fc0\n",
      "Successfully built wordcloud\n",
      "Installing collected packages: wordcloud\n",
      "Successfully installed wordcloud-1.8.1\n"
     ]
    }
   ],
   "source": [
    "!pip install wordcloud #주피터에서 터미널 사용법"
   ]
  },
  {
   "cell_type": "code",
   "execution_count": 3,
   "id": "272c0709",
   "metadata": {},
   "outputs": [
    {
     "name": "stderr",
     "output_type": "stream",
     "text": [
      "[nltk_data] Downloading package stopwords to\n",
      "[nltk_data]     C:\\Users\\user\\AppData\\Roaming\\nltk_data...\n",
      "[nltk_data]   Unzipping corpora\\stopwords.zip.\n",
      "[nltk_data] Downloading package punkt to\n",
      "[nltk_data]     C:\\Users\\user\\AppData\\Roaming\\nltk_data...\n",
      "[nltk_data]   Unzipping tokenizers\\punkt.zip.\n",
      "[nltk_data] Downloading package wordnet to\n",
      "[nltk_data]     C:\\Users\\user\\AppData\\Roaming\\nltk_data...\n",
      "[nltk_data]   Unzipping corpora\\wordnet.zip.\n"
     ]
    },
    {
     "data": {
      "text/plain": [
       "True"
      ]
     },
     "execution_count": 3,
     "metadata": {},
     "output_type": "execute_result"
    }
   ],
   "source": [
    "import nltk #자연어처리 관련 패키지\n",
    "nltk.download('stopwords')\n",
    "nltk.download('punkt')\n",
    "nltk.download('wordnet') #불용어 등들을 다운로드"
   ]
  },
  {
   "cell_type": "code",
   "execution_count": 19,
   "id": "44e5aa7a",
   "metadata": {},
   "outputs": [
    {
     "name": "stdout",
     "output_type": "stream",
     "text": [
      "['architecting', 'time', 'critical', 'big', 'data', 'system']\n"
     ]
    }
   ],
   "source": [
    "import pandas as pd\n",
    "import glob #파일 처리 모듈\n",
    "import re #정규표현식 임포트\n",
    "from functools import reduce #2차원 리스트 -> 1차원 리스트\n",
    "from nltk.tokenize import word_tokenize #토큰화\n",
    "from nltk.corpus import stopwords #불용어\n",
    "from nltk.stem import WordNetLemmatizer #표제어 추출\n",
    "from collections import Counter #카운터\n",
    "import matplotlib.pyplot as plt\n",
    "#주피터 노트북은 이거해주면 오류 없음\n",
    "%matplotlib inline\n",
    "from wordcloud import STOPWORDS, WordCloud #워드 클라우드\n",
    "\n",
    "all_files = glob.glob('../../textAnalyzing/myCabinetExcelData*.xls')\n",
    "all_files_data = []\n",
    "for file in all_files:\n",
    "    _df = pd.read_excel(file)\n",
    "    all_files_data.append(_df) #배열에 다 넣어줌\n",
    "all_files_data_concat = pd.concat(all_files_data, axis = 0, ignore_index=True) #axis=0이면 행방향(밑)으로 데이터 추가\n",
    "all_title = all_files_data_concat['제목']\n",
    "\n",
    "stopWords = set(stopwords.words('english')) #불용어 저장\n",
    "lemma = WordNetLemmatizer() #표제어 추출 객체\n",
    "\n",
    "words = [] \n",
    "for title in all_title: #워드 토큰화 -> 불용어 제거 -> 표제어 변환\n",
    "    EnWords= re.sub(r\"[^a-zA-Z]+\", \" \", str(title)) #영어가 아니면 공백 처리\n",
    "    EnWordsToken= word_tokenize(EnWords.lower()) #lower후 토큰화\n",
    "    EnWordsTokenStop= [w for w in EnWordsToken if w not in stopWords] #리스트 함축, \n",
    "    EnWordsTokenStopLemma= [lemma.lemmatize(w) for w in EnWordsTokenStop]\n",
    "    words.append(EnWordsTokenStopLemma)\n",
    "print(words[0])"
   ]
  },
  {
   "cell_type": "code",
   "execution_count": 21,
   "id": "313d5db2",
   "metadata": {},
   "outputs": [
    {
     "name": "stdout",
     "output_type": "stream",
     "text": [
      "data : 1221\n",
      "big : 1120\n",
      "analytics : 100\n",
      "based : 95\n",
      "analysis : 91\n",
      "approach : 60\n",
      "system : 58\n",
      "using : 57\n",
      "driven : 52\n",
      "challenge : 47\n",
      "learning : 46\n",
      "new : 45\n",
      "application : 39\n",
      "health : 36\n",
      "issue : 35\n",
      "framework : 35\n",
      "research : 34\n",
      "model : 34\n",
      "science : 33\n",
      "management : 33\n",
      "era : 31\n",
      "opportunity : 30\n",
      "cloud : 30\n",
      "special : 27\n",
      "machine : 26\n",
      "network : 25\n",
      "platform : 25\n",
      "processing : 24\n",
      "smart : 24\n",
      "algorithm : 24\n",
      "time : 23\n",
      "perspective : 23\n",
      "technology : 22\n",
      "mining : 22\n",
      "distributed : 22\n",
      "computing : 22\n",
      "world : 22\n",
      "study : 21\n",
      "paper : 21\n",
      "business : 21\n",
      "information : 21\n",
      "future : 21\n",
      "method : 20\n",
      "china : 20\n",
      "intelligence : 20\n",
      "performance : 20\n",
      "process : 20\n",
      "call : 19\n",
      "use : 19\n",
      "efficient : 19\n"
     ]
    }
   ],
   "source": [
    "words2 = list(reduce(lambda x, y: x+y, words))\n",
    "count = Counter(words2) #Count 객체 생성\n",
    "word_count= {}\n",
    "for tag, counts in count.most_common(50): #최빈 50개\n",
    "    if(len(str(tag)) > 1):\n",
    "        word_count[tag] = counts\n",
    "        print(\"%s : %d\" % (tag, counts))"
   ]
  },
  {
   "cell_type": "code",
   "execution_count": 24,
   "id": "99d33806",
   "metadata": {},
   "outputs": [
    {
     "data": {
      "image/png": "[encoded data removed]",
      "text/plain": [
       "<Figure size 432x288 with 1 Axes>"
      ]
     },
     "metadata": {
      "needs_background": "light"
     },
     "output_type": "display_data"
    }
   ],
   "source": [
    "sorted_Keys= sorted(word_count, key = word_count.get, reverse = True) #.get은 dic의 value 따라서 key를 value기준으로 정렬\n",
    "sorted_Values= sorted(word_count.values(), reverse = True) #이 번에는 value를 정렬\n",
    "plt.bar(range(len(word_count)), sorted_Values, align = 'center')\n",
    "plt.xticks(range(len(word_count)), list(sorted_Keys), rotation = '85')\n",
    "plt.show()"
   ]
  },
  {
   "cell_type": "code",
   "execution_count": null,
   "id": "80779113",
   "metadata": {},
   "outputs": [],
   "source": []
  }
 ],
 "metadata": {
  "kernelspec": {
   "display_name": "Python 3 (ipykernel)",
   "language": "python",
   "name": "python3"
  },
  "language_info": {
   "codemirror_mode": {
    "name": "ipython",
    "version": 3
   },
   "file_extension": ".py",
   "mimetype": "text/x-python",
   "name": "python",
   "nbconvert_exporter": "python",
   "pygments_lexer": "ipython3",
   "version": "3.9.7"
  }
 },
 "nbformat": 4,
 "nbformat_minor": 5
}
