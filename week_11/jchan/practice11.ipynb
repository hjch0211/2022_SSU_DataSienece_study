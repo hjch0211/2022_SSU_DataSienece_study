{
 "cells": [
  {
   "cell_type": "code",
   "execution_count": 12,
   "id": "c10416dd",
   "metadata": {},
   "outputs": [
    {
     "data": {
      "text/html": [
       "<div>\n",
       "<style scoped>\n",
       "    .dataframe tbody tr th:only-of-type {\n",
       "        vertical-align: middle;\n",
       "    }\n",
       "\n",
       "    .dataframe tbody tr th {\n",
       "        vertical-align: top;\n",
       "    }\n",
       "\n",
       "    .dataframe thead th {\n",
       "        text-align: right;\n",
       "    }\n",
       "</style>\n",
       "<table border=\"1\" class=\"dataframe\">\n",
       "  <thead>\n",
       "    <tr style=\"text-align: right;\">\n",
       "      <th></th>\n",
       "      <th>store</th>\n",
       "      <th>address</th>\n",
       "      <th>phone</th>\n",
       "      <th>address2</th>\n",
       "    </tr>\n",
       "  </thead>\n",
       "  <tbody>\n",
       "    <tr>\n",
       "      <th>0</th>\n",
       "      <td>학동역 DT점</td>\n",
       "      <td>서울시 강남구 학동로 211 1층</td>\n",
       "      <td>02-3444-9973</td>\n",
       "      <td>서울특별시 강남구 학동로 211 1층</td>\n",
       "    </tr>\n",
       "    <tr>\n",
       "      <th>1</th>\n",
       "      <td>차병원점</td>\n",
       "      <td>서울시 강남구 논현로 566 강남차병원1층</td>\n",
       "      <td>02-538-7615</td>\n",
       "      <td>서울특별시 강남구 논현로 566 강남차병원1층</td>\n",
       "    </tr>\n",
       "    <tr>\n",
       "      <th>2</th>\n",
       "      <td>강남대로점</td>\n",
       "      <td>서울시 서초구 강남대로 369 1층</td>\n",
       "      <td>02-588-5778</td>\n",
       "      <td>서울특별시 서초구 강남대로 369 1층</td>\n",
       "    </tr>\n",
       "    <tr>\n",
       "      <th>3</th>\n",
       "      <td>강남에스점</td>\n",
       "      <td>서울시 서초구 서초 1306-3호</td>\n",
       "      <td>02-593-5095</td>\n",
       "      <td>서울특별시 서초구 서초 1306-3호</td>\n",
       "    </tr>\n",
       "    <tr>\n",
       "      <th>4</th>\n",
       "      <td>청담에스점</td>\n",
       "      <td>서울시 강남구 압구정로 461 네이처포엠빌딩B108,109호</td>\n",
       "      <td>02-548-6052</td>\n",
       "      <td>서울특별시 강남구 압구정로 461 네이처포엠빌딩B108,109호</td>\n",
       "    </tr>\n",
       "  </tbody>\n",
       "</table>\n",
       "</div>"
      ],
      "text/plain": [
       "     store                              address         phone  \\\n",
       "0  학동역 DT점                 서울시 강남구 학동로 211 1층    02-3444-9973   \n",
       "1     차병원점            서울시 강남구 논현로 566 강남차병원1층     02-538-7615   \n",
       "2    강남대로점                서울시 서초구 강남대로 369 1층     02-588-5778   \n",
       "3    강남에스점                 서울시 서초구 서초 1306-3호     02-593-5095   \n",
       "4    청담에스점  서울시 강남구 압구정로 461 네이처포엠빌딩B108,109호     02-548-6052   \n",
       "\n",
       "                              address2  \n",
       "0                 서울특별시 강남구 학동로 211 1층  \n",
       "1            서울특별시 강남구 논현로 566 강남차병원1층  \n",
       "2                서울특별시 서초구 강남대로 369 1층  \n",
       "3                 서울특별시 서초구 서초 1306-3호  \n",
       "4  서울특별시 강남구 압구정로 461 네이처포엠빌딩B108,109호  "
      ]
     },
     "execution_count": 12,
     "metadata": {},
     "output_type": "execute_result"
    }
   ],
   "source": [
    "import pandas as pd\n",
    "\n",
    "CB = pd.read_csv('../../ignore/week11_geo/CoffeeBean.csv', encoding='CP949', index_col=0, header=0, engine='python')\n",
    "\n",
    "addr = []\n",
    "for address in CB.address:\n",
    "    addr.append(str(address).split())\n",
    "\n",
    "addr2 = []\n",
    "for i in range(len  (addr)): #데이터 정제\n",
    "    if addr[i][0] == \"서울\": addr[i][0] = \"서울특별시\"\n",
    "    elif addr[i][0] == \"서울시\": addr[i][0] = \"서울특별시\"\n",
    "    elif addr[i][0] == \"부산시\": addr[i][0] = \"부산광역시\"\n",
    "    elif addr[i][0] == \"인천\": addr[i][0] = \"인천광역시\"\n",
    "    elif addr[i][0] == \"광주\": addr[i][0] = \"광주광역시\"\n",
    "    elif addr[i][0] == \"대전시\": addr[i][0] = \"대전광역시\"\n",
    "    elif addr[i][0] == \"울산시\": addr[i][0] = \"울산광역시\"\n",
    "    elif addr[i][0] == \"세종시\": addr[i][0] = \"세종특별자치시\"\n",
    "    elif addr[i][0] == \"경기\": addr[i][0] = \"경기도\"\n",
    "    elif addr[i][0] == \"충북\": addr[i][0] = \"충청북도\"\n",
    "    elif addr[i][0] == \"충남\": addr[i][0] = \"충청남도\"\n",
    "    elif addr[i][0] == \"전북\": addr[i][0] = \"전라북도\"\n",
    "    elif addr[i][0] == \"전남\": addr[i][0] = \"전라남도\"\n",
    "    elif addr[i][0] == \"경북\": addr[i][0] = \"경상북도\"\n",
    "    elif addr[i][0] == \"경남\": addr[i][0] = \"경상남도\"\n",
    "    elif addr[i][0] == \"제주\": addr[i][0] = \"제주특별자치도\"\n",
    "    elif addr[i][0] == \"제주도\": addr[i][0] = \"제주특별자치도\"\n",
    "    elif addr[i][0] == \"제주시\": addr[i][0] = \"제주특별자치도\"\n",
    "    addr2.append(' '.join(addr[i]))\n",
    "addr2 = pd.DataFrame(addr2, columns=['address2'])\n",
    "CB2 = pd.concat([CB, addr2], axis=1)\n",
    "CB2.head()"
   ]
  },
  {
   "cell_type": "code",
   "execution_count": 21,
   "id": "bcdacf22",
   "metadata": {},
   "outputs": [
    {
     "data": {
      "text/plain": [
       "True"
      ]
     },
     "execution_count": 21,
     "metadata": {},
     "output_type": "execute_result"
    }
   ],
   "source": [
    "# !pip install folium\n",
    "import folium #지리 정보 시각화 라이브러리\n",
    " \n",
    "# map_osm = folium.Map(location=[38, 127], zoom_start=30)\n",
    "# map_osm.save('../../ignore/week11_geo/test_map_osm.html')\n",
    "# 위도 경도 업데이트한 csv파일 가져오기\n",
    "CB_geoData = pd.read_csv('../../ignore/week11_geo/CB_geo.shp.csv', encoding='CP949', engine='python')\n",
    "map_CB = folium.Map(location=[37.56, 126.97], zoom_start=15)\n",
    "\n",
    "for i, store in CB_geoData.iterrows(): #iterrows는 행별로 읽어옴. store에 행 값 저장, popup은 띄울 정보\n",
    "    folium.Marker(location=[store['위도'], store['경도']], popup=store['store'], icon=folium.Icon(color='blue', Icon='star')).add_to(map_CB)\n",
    "map_CB.save('../../ignore/week11_geo/map_CB.html')"
   ]
  },
  {
   "cell_type": "code",
   "execution_count": null,
   "id": "6c307615",
   "metadata": {},
   "outputs": [],
   "source": []
  }
 ],
 "metadata": {
  "kernelspec": {
   "display_name": "Python 3 (ipykernel)",
   "language": "python",
   "name": "python3"
  },
  "language_info": {
   "codemirror_mode": {
    "name": "ipython",
    "version": 3
   },
   "file_extension": ".py",
   "mimetype": "text/x-python",
   "name": "python",
   "nbconvert_exporter": "python",
   "pygments_lexer": "ipython3",
   "version": "3.9.7"
  }
 },
 "nbformat": 4,
 "nbformat_minor": 5
}
