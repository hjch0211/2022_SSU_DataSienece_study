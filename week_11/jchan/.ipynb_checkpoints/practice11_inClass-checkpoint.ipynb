{
 "cells": [
  {
   "cell_type": "code",
   "execution_count": 11,
   "id": "38899690",
   "metadata": {},
   "outputs": [],
   "source": [
    "import pandas as pd\n",
    "\n",
    "data = pd.read_csv('../../ignore/week11_geo/보건복지부_공공보건 의료기관 현황_20161231.csv', encoding='CP949', index_col=0, header=0, engine='python')\n",
    "\n",
    "addr = pd.DataFrame(data['주소'].apply(lambda v: v.split()[:2]).tolist(), columns=('시도', '군구'))\n",
    "\n",
    "# addr['시도'].unique()\n",
    "addr.iloc[27] = ['경상남도', '창원시']\n",
    "addr.iloc[31] = ['경상남도', '창원시']\n",
    "addr.iloc[47] = ['경상북도', '경산시']\n",
    "addr.iloc[209] = ['충청남도', '천안시']\n",
    "addr.iloc[210] = ['충청남도', '천안시']\n",
    "\n",
    "addr_aliases = {'경기':'경기도', '경남':'경상남도', '경북':'경상북도', '충북':'충청북도', '충남':'충청남도', '서울시':'서울특별시', '부산특별시':'부산광역시', '대전시':'대전광역시', '전남':'전라남도', '전북':'전라북도'}\n",
    "addr['시도'] = addr['시도'].apply(lambda v: addr_aliases.get(v, v))\n",
    "\n",
    "# 이거 올려주신다고 함"
   ]
  },
  {
   "cell_type": "code",
   "execution_count": null,
   "id": "94eecde1",
   "metadata": {},
   "outputs": [],
   "source": []
  }
 ],
 "metadata": {
  "kernelspec": {
   "display_name": "Python 3 (ipykernel)",
   "language": "python",
   "name": "python3"
  },
  "language_info": {
   "codemirror_mode": {
    "name": "ipython",
    "version": 3
   },
   "file_extension": ".py",
   "mimetype": "text/x-python",
   "name": "python",
   "nbconvert_exporter": "python",
   "pygments_lexer": "ipython3",
   "version": "3.9.7"
  }
 },
 "nbformat": 4,
 "nbformat_minor": 5
}
