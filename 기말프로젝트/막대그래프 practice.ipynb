{
 "cells": [
  {
   "cell_type": "code",
   "execution_count": 56,
   "id": "69284e4f",
   "metadata": {},
   "outputs": [
    {
     "data": {
      "text/plain": [
       "음식       340\n",
       "소매       218\n",
       "생활서비스    167\n",
       "학문/교육     78\n",
       "부동산       51\n",
       "Name: indsLclsNm, dtype: int64"
      ]
     },
     "execution_count": 56,
     "metadata": {},
     "output_type": "execute_result"
    }
   ],
   "source": [
    "import pandas as pd\n",
    "import matplotlib.pyplot as plt \n",
    "import seaborn as sns \n",
    "\n",
    "\n",
    "soongsil= pd.read_csv('soongsil.csv', encoding = 'cp949', engine = 'python')\n",
    "soongsil_bar=soongsil['indsLclsNm'].value_counts()\n",
    "soongsil_bar.head()\n"
   ]
  },
  {
   "cell_type": "code",
   "execution_count": 32,
   "id": "1469544a",
   "metadata": {},
   "outputs": [
    {
     "data": {
      "image/png": "[encoded data removed]",
      "text/plain": [
       "<Figure size 864x576 with 1 Axes>"
      ]
     },
     "metadata": {
      "needs_background": "light"
     },
     "output_type": "display_data"
    }
   ],
   "source": [
    "plt.figure(figsize=(12,8))  #size 조절\n",
    "plt.xticks(rotation = 0)  #x축 조절\n",
    "\n",
    "sns.barplot(\n",
    "data = soongsil_df.sort_values(by='indsLclsNm', ascending=False),\n",
    "x = \"indsLclsNm\",\n",
    ")\n",
    "plt.show()"
   ]
  },
  {
   "cell_type": "code",
   "execution_count": null,
   "id": "1190fc61",
   "metadata": {},
   "outputs": [],
   "source": []
  },
  {
   "cell_type": "code",
   "execution_count": null,
   "id": "0e03f403",
   "metadata": {},
   "outputs": [],
   "source": []
  }
 ],
 "metadata": {
  "kernelspec": {
   "display_name": "Python 3",
   "language": "python",
   "name": "python3"
  },
  "language_info": {
   "codemirror_mode": {
    "name": "ipython",
    "version": 3
   },
   "file_extension": ".py",
   "mimetype": "text/x-python",
   "name": "python",
   "nbconvert_exporter": "python",
   "pygments_lexer": "ipython3",
   "version": "3.8.8"
  }
 },
 "nbformat": 4,
 "nbformat_minor": 5
}
