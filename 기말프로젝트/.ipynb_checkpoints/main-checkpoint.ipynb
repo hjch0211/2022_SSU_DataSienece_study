{
 "cells": [
  {
   "cell_type": "code",
   "execution_count": 1,
   "id": "93dbda17",
   "metadata": {},
   "outputs": [],
   "source": [
    "from jungeol import LoadUnivData\n",
    "from jchan import CommercialArea\n",
    "\n",
    "#숭실대학교, 서울대학교, 연세대학교, 중앙대학교, 동국대학교\n",
    "ssu_data = LoadUnivData('숭실대학교') #LoadUnivData 객체 생성\n",
    "ssu_gucode, ssu_dongname = ssu_data.loadUniv()\n",
    "\n",
    "#병원, 백화점, 영화관 거리\n",
    "ssu_cx, ssu_cy = ssu_data.loadXY()\n",
    "\n",
    "soongsil_CA = CommercialArea(ssu_gucode, ssu_dongname, ssu_cx, ssu_cy) #CommercialArea 객체 생성"
   ]
  },
  {
   "cell_type": "code",
   "execution_count": 2,
   "id": "2b3d43e8",
   "metadata": {},
   "outputs": [
    {
     "name": "stdout",
     "output_type": "stream",
     "text": [
      "bizesId                        11756204\n",
      "bizesNm                           순에스테틱\n",
      "brchNm                                 \n",
      "indsLclsCd                            F\n",
      "indsLclsNm                        생활서비스\n",
      "indsMclsCd                          F01\n",
      "indsMclsNm                      이/미용/건강\n",
      "indsSclsCd                       F01A03\n",
      "indsSclsNm                      비만/피부관리\n",
      "ksicCd                                 \n",
      "ksicNm                                 \n",
      "ctprvnCd                             11\n",
      "ctprvnNm                          서울특별시\n",
      "signguCd                          11590\n",
      "signguNm                            동작구\n",
      "adongCd                      1159053000\n",
      "adongNm                            상도1동\n",
      "ldongCd                      1159010200\n",
      "ldongNm                             상도동\n",
      "lnoCd               1159010200104960022\n",
      "plotSctCd                             1\n",
      "plotSctNm                            대지\n",
      "lnoMnno                             496\n",
      "lnoSlno                              22\n",
      "lnoAdr             서울특별시 동작구 상도동 496-22\n",
      "rdnmCd                     115903119005\n",
      "rdnm                      서울특별시 동작구 상도로\n",
      "bldMnno                             392\n",
      "bldSlno                              20\n",
      "bldMngNo      1159010200104960022020401\n",
      "bldNm                                  \n",
      "rdnmAdr            서울특별시 동작구 상도로 392-20\n",
      "oldZipcd                         156030\n",
      "newZipcd                          07040\n",
      "dongNo                                 \n",
      "flrNo                                 1\n",
      "hoNo                                   \n",
      "lon                          126.954304\n",
      "lat                           37.494116\n",
      "Name: 0, dtype: object\n"
     ]
    }
   ],
   "source": [
    "### df에서\n",
    "# 처리 시간 엄청 오래 걸림\n",
    "# bizesNm : 건물명\n",
    "# indsLclsNm : 상권업종대분류명\n",
    "# indsSclsCd : 상권업종소분류명\n",
    "# lon : 경도\n",
    "# lat : 위도\n",
    "# 주로 위 데이터사용하면 될거야\n",
    "### 객체.getDf().loc[0,:] 로 확인해봐도 좋고\n",
    "\n",
    "#학교별 상권 내 상가업소 데이터프레임\n",
    "print(soongsil_CA.getDf().loc[0,:]) #숭실대"
   ]
  },
  {
   "cell_type": "code",
   "execution_count": 24,
   "id": "fe7ce840",
   "metadata": {},
   "outputs": [
    {
     "name": "stdout",
     "output_type": "stream",
     "text": [
      "63     2915.0\n",
      "5      2915.0\n",
      "173    2252.0\n",
      "188    2192.0\n",
      "213    2034.0\n",
      "        ...  \n",
      "157       NaN\n",
      "159       NaN\n",
      "164       NaN\n",
      "197       NaN\n",
      "198       NaN\n",
      "Name: naver_blog_review_qty, Length: 235, dtype: float64\n"
     ]
    }
   ],
   "source": [
    "#네이버 지도 방문자리뷰수, 블로그리뷰수 지도 시각화\n",
    "#!pip install folium\n",
    "import folium\n",
    "import pandas as pd\n",
    "\n",
    "review_map = folium.Map(location=[37.56, 126.97], zoom_start=15)\n",
    "\n",
    "ssu_review = pd.read_csv('./숭실대-리뷰수2.csv', encoding='UTF-8', engine='python')\n",
    "\n",
    "def getReview(review):\n",
    "    review_geoData = review[['bizesNm', 'lon', 'lat', 'naver_store_type', 'naver_blog_review_qty']]\n",
    "    return review_geoData.sort_values('naver_blog_review_qty', ascending=False)    \n",
    "\n",
    "for i, store in getReview(ssu_review).head(5).iterrows(): \n",
    "    popup = '<div style=\"width:150px;height:80px\"><div>상호명 : %s</div><div>분류 : %s</div><div>블로그리뷰수 : %s</div></div>' % (store['bizesNm'],store['naver_store_type'],store['naver_blog_review_qty'])\n",
    "    folium.Marker(location=[store['lat'],store['lon']], popup=popup, icon=folium.Icon(color='blue')).add_to(review_map)\n",
    "\n",
    "for i, store in getReview().head(5).iterrows(): \n",
    "    popup = '<div style=\"width:150px;height:80px\"><div>상호명 : %s</div><div>분류 : %s</div><div>블로그리뷰수 : %s</div></div>' % (store['bizesNm'],store['naver_store_type'],store['naver_blog_review_qty'])\n",
    "    folium.Marker(location=[store['lat'],store['lon']], popup=popup, icon=folium.Icon(color='blue')).add_to(review_map)\n",
    "\n",
    "for i, store in getReview().head(5).iterrows(): \n",
    "    popup = '<div style=\"width:150px;height:80px\"><div>상호명 : %s</div><div>분류 : %s</div><div>블로그리뷰수 : %s</div></div>' % (store['bizesNm'],store['naver_store_type'],store['naver_blog_review_qty'])\n",
    "    folium.Marker(location=[store['lat'],store['lon']], popup=popup, icon=folium.Icon(color='blue')).add_to(review_map)\n",
    "\n",
    "for i, store in getReview().head(5).iterrows(): \n",
    "    popup = '<div style=\"width:150px;height:80px\"><div>상호명 : %s</div><div>분류 : %s</div><div>블로그리뷰수 : %s</div></div>' % (store['bizesNm'],store['naver_store_type'],store['naver_blog_review_qty'])\n",
    "    folium.Marker(location=[store['lat'],store['lon']], popup=popup, icon=folium.Icon(color='blue')).add_to(review_map)\n",
    "\n",
    "for i, store in getReview().head(5).iterrows(): \n",
    "    popup = '<div style=\"width:150px;height:80px\"><div>상호명 : %s</div><div>분류 : %s</div><div>블로그리뷰수 : %s</div></div>' % (store['bizesNm'],store['naver_store_type'],store['naver_blog_review_qty'])\n",
    "    folium.Marker(location=[store['lat'],store['lon']], popup=popup, icon=folium.Icon(color='blue')).add_to(review_map)\n",
    "    \n",
    "review_map.save('./학교별리뷰수.html')"
   ]
  },
  {
   "cell_type": "code",
   "execution_count": null,
   "id": "c026ba51",
   "metadata": {},
   "outputs": [],
   "source": []
  },
  {
   "cell_type": "code",
   "execution_count": null,
   "id": "54dcc3f4",
   "metadata": {},
   "outputs": [],
   "source": []
  }
 ],
 "metadata": {
  "kernelspec": {
   "display_name": "Python 3 (ipykernel)",
   "language": "python",
   "name": "python3"
  },
  "language_info": {
   "codemirror_mode": {
    "name": "ipython",
    "version": 3
   },
   "file_extension": ".py",
   "mimetype": "text/x-python",
   "name": "python",
   "nbconvert_exporter": "python",
   "pygments_lexer": "ipython3",
   "version": "3.9.7"
  }
 },
 "nbformat": 4,
 "nbformat_minor": 5
}
