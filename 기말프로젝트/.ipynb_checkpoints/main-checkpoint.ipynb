{
 "cells": [
  {
   "cell_type": "code",
   "execution_count": null,
   "id": "fe7ce840",
   "metadata": {},
   "outputs": [],
   "source": [
    "from jchan import CommercialArea\n",
    "\n",
    "test = CommercialArea('11590', '상도1동')\n",
    "test.getDf()\n",
    "\n",
    "### df에서\n",
    "# bizesNm : 건물명\n",
    "# indsLclsNm : 상권업종대분류명\n",
    "# indsSclsCd : 상권업종소분류명\n",
    "# lon : 경도\n",
    "# lat : 위도\n",
    "# 주로 위 데이터사용하면 될거야\n",
    "### 객체.getDf().loc[0,:] 로 확인해봐도 좋고\n",
    "\n",
    "print(test.getDf().loc[0,:])"
   ]
  }
 ],
 "metadata": {
  "kernelspec": {
   "display_name": "Python 3 (ipykernel)",
   "language": "python",
   "name": "python3"
  },
  "language_info": {
   "codemirror_mode": {
    "name": "ipython",
    "version": 3
   },
   "file_extension": ".py",
   "mimetype": "text/x-python",
   "name": "python",
   "nbconvert_exporter": "python",
   "pygments_lexer": "ipython3",
   "version": "3.9.7"
  }
 },
 "nbformat": 4,
 "nbformat_minor": 5
}
