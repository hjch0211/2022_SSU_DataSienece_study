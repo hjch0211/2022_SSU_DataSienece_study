{
 "cells": [
  {
   "cell_type": "code",
   "execution_count": null,
   "id": "93dbda17",
   "metadata": {},
   "outputs": [],
   "source": [
    "from jungeol import LoadUnivData\n",
    "from jongGang import CommercialArea\n",
    "\n",
    "#숭실대학교, 서울대학교, 연세대학교, 중앙대학교, 동국대학교\n",
    "soongsil = LoadUnivData('숭실대학교') #LoadUnivData 객체 생성\n",
    "soongsil_gucode, soongsil_dongname = soongsil.loadUniv()\n",
    "\n",
    "soongsil_CA = CommercialArea(soongsil_gucode, soongsil_dongname) #CommercialArea 객체 생성\n",
    "soongsil_CA.getDf()\n",
    "\n",
    "### df에서\n",
    "# 처리 시간 엄청 오래 걸림\n",
    "# bizesNm : 건물명\n",
    "# indsLclsNm : 상권업종대분류명\n",
    "# indsSclsCd : 상권업종소분류명\n",
    "# lon : 경도\n",
    "# lat : 위도\n",
    "# 주로 위 데이터사용하면 될거야\n",
    "### 객체.getDf().loc[0,:] 로 확인해봐도 좋고\n",
    "\n",
    "print(soongsil_CA.getDf().loc[0,:])"
   ]
  },
  {
   "cell_type": "code",
   "execution_count": 120,
   "id": "2b3d43e8",
   "metadata": {},
   "outputs": [],
   "source": []
  },
  {
   "cell_type": "code",
   "execution_count": null,
   "id": "fe7ce840",
   "metadata": {},
   "outputs": [],
   "source": []
  },
  {
   "cell_type": "code",
   "execution_count": null,
   "id": "c026ba51",
   "metadata": {},
   "outputs": [],
   "source": []
  }
 ],
 "metadata": {
  "kernelspec": {
   "display_name": "Python 3 (ipykernel)",
   "language": "python",
   "name": "python3"
  },
  "language_info": {
   "codemirror_mode": {
    "name": "ipython",
    "version": 3
   },
   "file_extension": ".py",
   "mimetype": "text/x-python",
   "name": "python",
   "nbconvert_exporter": "python",
   "pygments_lexer": "ipython3",
   "version": "3.9.7"
  }
 },
 "nbformat": 4,
 "nbformat_minor": 5
}
