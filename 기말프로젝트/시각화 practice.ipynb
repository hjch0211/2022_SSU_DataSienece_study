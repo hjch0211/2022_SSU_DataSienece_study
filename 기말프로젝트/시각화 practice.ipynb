{
 "cells": [
  {
   "cell_type": "code",
   "execution_count": 2,
   "id": "aabfc99c",
   "metadata": {},
   "outputs": [],
   "source": [
    "import pandas as pd\n",
    "import json\n",
    "import webbrowser\n",
    "import time\n",
    "import requests\n",
    "\n",
    "decode_serviceKey = 'NwS7t35ZvejHIExKbCymXgmyoLk0WLkZKDslnArD0xyBdUm3ohgWtefXVg25j9L9z3UdyDXXWbfIVjwGfOFArw=='    \n",
    "ednode_serviceKey = 'NwS7t35ZvejHIExKbCymXgmyoLk0WLkZKDslnArD0xyBdUm3ohgWtefXVg25j9L9z3UdyDXXWbfIVjwGfOFArw%3D%3D'\n",
    "\n",
    "### getCommercialArea(행정동코드)\n",
    "def getCommercialArea(signguCd, adongNm):\n",
    "    ### getDivId(구코드, 찾을 행정동)\n",
    "    def getDivId():\n",
    "        #signguCd = '11590' 동작구\n",
    "        webbrowser.open(\"http://apis.data.go.kr/B553077/api/open/sdsc2/baroApi\")\n",
    "        time.sleep(1.5) #임시 비동기 처리\n",
    "            \n",
    "        url = 'http://apis.data.go.kr/B553077/api/open/sdsc2/baroApi?resId=dong&catId=admi'+'&serviceKey=' + ednode_serviceKey + '&signguCd=' + signguCd + '&type=json'\n",
    "            \n",
    "        response_json = requests.get(url, allow_redirects=False)\n",
    "        response = json.loads(response_json.content)\n",
    "        responseArr = response.get('body').get('items')\n",
    "            \n",
    "        _return = ''\n",
    "        for list in responseArr:\n",
    "            if str(list.get('adongNm')) == adongNm :\n",
    "                _return = list.get('adongCd')\n",
    "                \n",
    "            if(_return == ''):\n",
    "                _return = 'Not found'\n",
    "            \n",
    "        return _return\n",
    "        \n",
    "    webbrowser.open(\"http://apis.data.go.kr/B553077/api/open/sdsc2/storeListInDong\")\n",
    "    time.sleep(2) #임시 비동기 처리\n",
    "        \n",
    "    #params\n",
    "    url = 'http://apis.data.go.kr/B553077/api/open/sdsc2/storeListInDong'\n",
    "    divId='adongCd'\n",
    "    key = getDivId()\n",
    "    params ={'serviceKey' : decode_serviceKey, 'pageNo' : '1', 'numOfRows' : '1000', 'divId' : divId, 'key' : key, 'type' : 'json' }\n",
    "        \n",
    "    response_json = requests.get(url, params=params, allow_redirects=False)\n",
    "    response = json.loads(response_json.content)\n",
    "    responseArr = response.get('body').get('items')\n",
    "\n",
    "    _return = pd.DataFrame(responseArr)\n",
    "        \n",
    "    #테스트 필요\n",
    "    page = response.get('body').get('totalCount') // 1000 + 1\n",
    "    if page > 1 :\n",
    "        for p in range(1, page):\n",
    "            params['pageNo'] = str(p)\n",
    "            add_response_json = requests.get(url, params=params, allow_redirects=False)\n",
    "            add_response = json.loads(add_response_json.content)\n",
    "            add_responseArr = add_response.get('body').get('items')\n",
    "            responseArr = responseArr + add_responseArr\n",
    "            \n",
    "    return _return\n",
    "    \n",
    "### 필요한 인자가 시군구코드, 찾을행정동\n",
    "class CommercialArea:\n",
    "    def __init__(self, signguCd, adongNm):\n",
    "        self._signguCd = signguCd\n",
    "        self._adongNm = adongNm\n",
    "        self._data = getCommercialArea(self._signguCd, self._adongNm)\n",
    "        \n",
    "    def getDf(self):\n",
    "        return self._data\n",
    "##이런식으로 사용하면 됨\n",
    "#test = CommercialArea('11590', '상도1동')\n",
    "#test.getDf()\n",
    "##리펙토링 마렵네요.."
   ]
  },
  {
   "cell_type": "code",
   "execution_count": 3,
   "id": "9580ace9",
   "metadata": {},
   "outputs": [
    {
     "name": "stdout",
     "output_type": "stream",
     "text": [
      "<class 'str'>\n",
      "<class 'str'>\n"
     ]
    }
   ],
   "source": [
    "# -*- coding: utf-8 -*-\n",
    "\"\"\"\n",
    "\n",
    "\n",
    "\n",
    "\"\"\"\n",
    "\n",
    "import pandas as pd\n",
    "\n",
    "def load_data(univ):\n",
    "    excel_data = pd.read_csv(\"대학리스트.csv\")\n",
    "    result_data= excel_data[excel_data['대학']==univ]\n",
    "    return str(result_data['시군구코드'].values[0]), result_data['행정동이름'].values[0]\n",
    "\n",
    "    \n",
    "    \n",
    "def main():\n",
    "    a, b = load_data('숭실대학교')\n",
    "    print(type(str(a)))\n",
    "    print(type(b))\n",
    "\n",
    "\n",
    "    \n",
    "if __name__ =='__main__':\n",
    "    main()\n",
    "\n",
    "\n",
    "\n",
    "class LoadUnivData:\n",
    "    def __init__(self, univ):\n",
    "        self.univ = univ\n",
    "        self.gucode, self.dongname = load_data(self.univ)\n",
    "        \n",
    "        \n",
    "    def loadUniv(self):\n",
    "        return self.gucode, self.dongname\n",
    "        \n",
    "        "
   ]
  },
  {
   "cell_type": "code",
   "execution_count": 26,
   "id": "004c11d8",
   "metadata": {},
   "outputs": [
    {
     "name": "stdout",
     "output_type": "stream",
     "text": [
      "bizesId                        11756204\n",
      "bizesNm                           순에스테틱\n",
      "brchNm                                 \n",
      "indsLclsCd                            F\n",
      "indsLclsNm                        생활서비스\n",
      "indsMclsCd                          F01\n",
      "indsMclsNm                      이/미용/건강\n",
      "indsSclsCd                       F01A03\n",
      "indsSclsNm                      비만/피부관리\n",
      "ksicCd                                 \n",
      "ksicNm                                 \n",
      "ctprvnCd                             11\n",
      "ctprvnNm                          서울특별시\n",
      "signguCd                          11590\n",
      "signguNm                            동작구\n",
      "adongCd                      1159053000\n",
      "adongNm                            상도1동\n",
      "ldongCd                      1159010200\n",
      "ldongNm                             상도동\n",
      "lnoCd               1159010200104960022\n",
      "plotSctCd                             1\n",
      "plotSctNm                            대지\n",
      "lnoMnno                             496\n",
      "lnoSlno                              22\n",
      "lnoAdr             서울특별시 동작구 상도동 496-22\n",
      "rdnmCd                     115903119005\n",
      "rdnm                      서울특별시 동작구 상도로\n",
      "bldMnno                             392\n",
      "bldSlno                              20\n",
      "bldMngNo      1159010200104960022020401\n",
      "bldNm                                  \n",
      "rdnmAdr            서울특별시 동작구 상도로 392-20\n",
      "oldZipcd                         156030\n",
      "newZipcd                          07040\n",
      "dongNo                                 \n",
      "flrNo                                 1\n",
      "hoNo                                   \n",
      "lon                          126.954304\n",
      "lat                           37.494116\n",
      "Name: 0, dtype: object\n"
     ]
    }
   ],
   "source": [
    "from jungeol import LoadUnivData\n",
    "from jongGang import CommercialArea\n",
    "\n",
    "#숭실대학교, 서울대학교, 연세대학교, 중앙대학교, 동국대학교\n",
    "soongsil = LoadUnivData('숭실대학교') #LoadUnivData 객체 생성\n",
    "soongsil_gucode, soongsil_dongname = soongsil.loadUniv()\n",
    "\n",
    "soongsil_CA = CommercialArea(soongsil_gucode, soongsil_dongname) #CommercialArea 객체 생성\n",
    "soongsil_CA.getDf()\n",
    "\n",
    "### df에서\n",
    "# 처리 시간 엄청 오래 걸림\n",
    "# bizesNm : 건물명\n",
    "# indsLclsNm : 상권업종대분류명\n",
    "# indsSclsCd : 상권업종소분류명\n",
    "# lon : 경도\n",
    "# lat : 위도\n",
    "# 주로 위 데이터사용하면 될거야\n",
    "### 객체.getDf().loc[0,:] 로 확인해봐도 좋고\n",
    "\n",
    "print(soongsil_CA.getDf().loc[0,:])\n"
   ]
  },
  {
   "cell_type": "code",
   "execution_count": 24,
   "id": "b8208ab6",
   "metadata": {},
   "outputs": [],
   "source": [
    "soongsil=soongsil_CA.getDf()[[\"bizesNm\",\"indsLclsNm\",\"indsSclsNm\",\"rdnmAdr\",\"lon\",\"lat\"]]\n",
    "soongsil.to_csv(\"soongsil.csv\",mode=\"w\",encoding='euc-kr')"
   ]
  },
  {
   "cell_type": "code",
   "execution_count": 1,
   "id": "1c4eea96",
   "metadata": {},
   "outputs": [
    {
     "name": "stdout",
     "output_type": "stream",
     "text": [
      "Collecting folium\n",
      "  Downloading folium-0.12.1.post1-py2.py3-none-any.whl (95 kB)\n",
      "Requirement already satisfied: requests in c:\\programdata\\anaconda3\\lib\\site-packages (from folium) (2.25.1)\n",
      "Requirement already satisfied: numpy in c:\\programdata\\anaconda3\\lib\\site-packages (from folium) (1.20.1)\n",
      "Requirement already satisfied: jinja2>=2.9 in c:\\programdata\\anaconda3\\lib\\site-packages (from folium) (2.11.3)\n",
      "Collecting branca>=0.3.0\n",
      "  Downloading branca-0.5.0-py3-none-any.whl (24 kB)\n",
      "Requirement already satisfied: MarkupSafe>=0.23 in c:\\programdata\\anaconda3\\lib\\site-packages (from jinja2>=2.9->folium) (1.1.1)\n",
      "Requirement already satisfied: certifi>=2017.4.17 in c:\\programdata\\anaconda3\\lib\\site-packages (from requests->folium) (2020.12.5)\n",
      "Requirement already satisfied: chardet<5,>=3.0.2 in c:\\programdata\\anaconda3\\lib\\site-packages (from requests->folium) (4.0.0)\n",
      "Requirement already satisfied: idna<3,>=2.5 in c:\\programdata\\anaconda3\\lib\\site-packages (from requests->folium) (2.10)\n",
      "Requirement already satisfied: urllib3<1.27,>=1.21.1 in c:\\programdata\\anaconda3\\lib\\site-packages (from requests->folium) (1.26.4)\n",
      "Installing collected packages: branca, folium\n",
      "Successfully installed branca-0.5.0 folium-0.12.1.post1\n"
     ]
    }
   ],
   "source": [
    "!pip install folium"
   ]
  },
  {
   "cell_type": "code",
   "execution_count": 42,
   "id": "aad29273",
   "metadata": {},
   "outputs": [],
   "source": [
    "import folium\n",
    "import pandas as pd"
   ]
  },
  {
   "cell_type": "code",
   "execution_count": 43,
   "id": "ee345be7",
   "metadata": {},
   "outputs": [],
   "source": [
    "map_osm = folium.Map(location = [37.49411614, 126.9543037], zoom_start = 16)\n",
    "map_osm.save('09_gate_map.html')"
   ]
  },
  {
   "cell_type": "code",
   "execution_count": 44,
   "id": "871c7e8b",
   "metadata": {},
   "outputs": [],
   "source": [
    "soongsil_map = pd.read_csv('soongsil.csv', encoding = 'cp949', engine = 'python')"
   ]
  },
  {
   "cell_type": "code",
   "execution_count": 45,
   "id": "604a8711",
   "metadata": {},
   "outputs": [],
   "source": [
    "map_CB = folium.Map(location = [37.49411614, 126.9543037], zoom_start = 15)"
   ]
  },
  {
   "cell_type": "code",
   "execution_count": 46,
   "id": "d51e76dd",
   "metadata": {
    "scrolled": true
   },
   "outputs": [],
   "source": [
    "for i, bizesNm in soongsil_map.iterrows():\n",
    "    folium.Marker(location = [bizesNm['lat'], bizesNm['lon']], popup = bizesNm['bizesNm'], icon = folium.Icon(color = 'red', icon = 'star')).add_to(map_CB)"
   ]
  },
  {
   "cell_type": "code",
   "execution_count": 47,
   "id": "1a05e598",
   "metadata": {},
   "outputs": [],
   "source": [
    "map_CB.save('map_CB.html')"
   ]
  },
  {
   "cell_type": "code",
   "execution_count": 48,
   "id": "730bf796",
   "metadata": {},
   "outputs": [
    {
     "data": {
      "text/plain": [
       "True"
      ]
     },
     "execution_count": 48,
     "metadata": {},
     "output_type": "execute_result"
    }
   ],
   "source": [
    "import webbrowser\n",
    "webbrowser.open('map_CB.html')"
   ]
  },
  {
   "cell_type": "code",
   "execution_count": null,
   "id": "69e210e0",
   "metadata": {},
   "outputs": [],
   "source": []
  }
 ],
 "metadata": {
  "kernelspec": {
   "display_name": "Python 3 (ipykernel)",
   "language": "python",
   "name": "python3"
  },
  "language_info": {
   "codemirror_mode": {
    "name": "ipython",
    "version": 3
   },
   "file_extension": ".py",
   "mimetype": "text/x-python",
   "name": "python",
   "nbconvert_exporter": "python",
   "pygments_lexer": "ipython3",
   "version": "3.9.7"
  }
 },
 "nbformat": 4,
 "nbformat_minor": 5
}
